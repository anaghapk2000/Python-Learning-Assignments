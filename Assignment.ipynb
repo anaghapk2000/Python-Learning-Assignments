{
  "nbformat": 4,
  "nbformat_minor": 0,
  "metadata": {
    "colab": {
      "name": "Assignment.ipynb",
      "provenance": [],
      "collapsed_sections": []
    },
    "kernelspec": {
      "name": "python3",
      "display_name": "Python 3"
    },
    "language_info": {
      "name": "python"
    }
  },
  "cells": [
    {
      "cell_type": "markdown",
      "metadata": {
        "id": "iqGCXPR60T09"
      },
      "source": [
        "##1)Get a string.Check whether \"is\" is a part of it"
      ]
    },
    {
      "cell_type": "code",
      "metadata": {
        "colab": {
          "base_uri": "https://localhost:8080/"
        },
        "id": "bpjaw4Iw01ww",
        "outputId": "354070e8-b7b7-41e2-a7b7-6aec8d9cfc18"
      },
      "source": [
        "X=input(\"enter a sentence:\")\n",
        "print(X)\n",
        "print(\"is\" in X)"
      ],
      "execution_count": null,
      "outputs": [
        {
          "output_type": "stream",
          "text": [
            "enter a sentence:She is my friend\n",
            "She is my friend\n",
            "True\n"
          ],
          "name": "stdout"
        }
      ]
    },
    {
      "cell_type": "markdown",
      "metadata": {
        "id": "wjNxxoFm3wPa"
      },
      "source": [
        " ## 2)Get a string,checkwhether it is a possible identifier or not."
      ]
    },
    {
      "cell_type": "code",
      "metadata": {
        "colab": {
          "base_uri": "https://localhost:8080/"
        },
        "id": "_UtOUMrY5EsI",
        "outputId": "528c4aef-c07b-4ee1-dc69-93d884d994f0"
      },
      "source": [
        "X=input(\"enter a word:\")\n",
        "print(X)\n",
        "print(X.isidentifier())"
      ],
      "execution_count": null,
      "outputs": [
        {
          "output_type": "stream",
          "name": "stdout",
          "text": [
            "enter a word:Ammu\n",
            "Ammu\n",
            "True\n"
          ]
        }
      ]
    },
    {
      "cell_type": "markdown",
      "metadata": {
        "id": "gkv1uP0k49Tq"
      },
      "source": [
        ""
      ]
    },
    {
      "cell_type": "markdown",
      "metadata": {
        "id": "PIfx6dvl70dD"
      },
      "source": [
        " ## 3)Get a string,covert all the letters after the first occurrence of e to uppercase,all the letters before it to lowercase"
      ]
    },
    {
      "cell_type": "code",
      "metadata": {
        "colab": {
          "base_uri": "https://localhost:8080/"
        },
        "id": "zt3c9x398NOP",
        "outputId": "7244e6aa-9f10-4fd9-a2b8-f161b2462e45"
      },
      "source": [
        "X=input(\"enter a sentence:\")\n",
        "print (X)\n",
        "Y=X.find(\"e\")\n",
        "Z=X[0:Y+1].lower()+X[Y+1:].upper()\n",
        "print(Z)"
      ],
      "execution_count": null,
      "outputs": [
        {
          "output_type": "stream",
          "text": [
            "enter a sentence:The dream begins\n",
            "The dream begins\n",
            "the DREAM BEGINS\n"
          ],
          "name": "stdout"
        }
      ]
    },
    {
      "cell_type": "markdown",
      "metadata": {
        "id": "jJyFqamS9OQR"
      },
      "source": [
        " ## 4)Get a string with 3 words,join the first and third words together with a space in b/w them"
      ]
    },
    {
      "cell_type": "code",
      "metadata": {
        "colab": {
          "base_uri": "https://localhost:8080/"
        },
        "id": "j5wWFmw990o6",
        "outputId": "791a8ba1-a23e-4ec5-8b34-d5df1a9706d4"
      },
      "source": [
        "X=input(\"enter a sentence with 3 words:\")\n",
        "Y=X.split(\" \")\n",
        "print(Y)\n",
        "Z=Y[0]+\" \"+Y[2]\n",
        "print (Z)"
      ],
      "execution_count": null,
      "outputs": [
        {
          "output_type": "stream",
          "name": "stdout",
          "text": [
            "enter a sentence with 3 words:I am good\n",
            "['I', 'am', 'good']\n",
            "I good\n"
          ]
        }
      ]
    },
    {
      "cell_type": "markdown",
      "metadata": {
        "id": "o5pKZUUw_qYR"
      },
      "source": [
        " ## 5)Get a string with 3 words separated by commas, split at commas,and create a list"
      ]
    },
    {
      "cell_type": "code",
      "metadata": {
        "colab": {
          "base_uri": "https://localhost:8080/"
        },
        "id": "6nQgc9vEBdoX",
        "outputId": "859961fb-a5c7-4480-b0d1-bf07a8299867"
      },
      "source": [
        "X=input (\"enter 3 words separated by commas:\")\n",
        "print(X)\n",
        "Y=X.split(\",\")\n",
        "print(Y)"
      ],
      "execution_count": null,
      "outputs": [
        {
          "output_type": "stream",
          "text": [
            "enter 3 words separated by commas:Apple,orange,banana\n",
            "Apple,orange,banana\n",
            "['Apple', 'orange', 'banana']\n"
          ],
          "name": "stdout"
        }
      ]
    },
    {
      "cell_type": "markdown",
      "metadata": {
        "id": "iNN0vTt6C2y-"
      },
      "source": [
        " ## 7) Find a quotient when two numbers are divided"
      ]
    },
    {
      "cell_type": "code",
      "metadata": {
        "colab": {
          "base_uri": "https://localhost:8080/"
        },
        "id": "zddpYoqWEyfB",
        "outputId": "eead0d77-9b30-4c7f-fe09-1875f80742b2"
      },
      "source": [
        "X=input(\"enter a numerator:\")\n",
        "X=int(X)\n",
        "Y=input (\"enter a denominator:\")\n",
        "Y=int(Y)\n",
        "print (X//Y)"
      ],
      "execution_count": null,
      "outputs": [
        {
          "output_type": "stream",
          "name": "stdout",
          "text": [
            "enter a numerator:15\n",
            "enter a denominator:2\n",
            "7\n"
          ]
        }
      ]
    },
    {
      "cell_type": "markdown",
      "metadata": {
        "id": "tlOEap4GF1Pt"
      },
      "source": [
        " ## 8)Add two numbers and see if they are equal to 3.331 Reason:have to check for tolerance, not for equality due to small errors that can happen"
      ]
    },
    {
      "cell_type": "code",
      "metadata": {
        "colab": {
          "base_uri": "https://localhost:8080/"
        },
        "id": "yJMg2CWFGUtV",
        "outputId": "5de67752-49fe-4ad0-afe4-55410386bdcd"
      },
      "source": [
        "X=input(\"enter a number:\")\n",
        "X=float(X)\n",
        "Y=input (\"enter another number:\")\n",
        "Y=float(Y)\n",
        "Z=X+Y\n",
        "print(Z)\n",
        "print(Z==3.331)\n",
        "print (abs(X+Y-3.331)<0.001)"
      ],
      "execution_count": null,
      "outputs": [
        {
          "output_type": "stream",
          "name": "stdout",
          "text": [
            "enter a number:1.2\n",
            "enter another number:2.132\n",
            "3.332\n",
            "False\n",
            "True\n"
          ]
        }
      ]
    }
  ]
}