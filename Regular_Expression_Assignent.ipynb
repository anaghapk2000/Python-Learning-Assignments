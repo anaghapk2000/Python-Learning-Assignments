{
  "nbformat": 4,
  "nbformat_minor": 0,
  "metadata": {
    "colab": {
      "name": "Regular Expression Assignent.ipynb",
      "provenance": [],
      "collapsed_sections": []
    },
    "kernelspec": {
      "name": "python3",
      "display_name": "Python 3"
    },
    "language_info": {
      "name": "python"
    }
  },
  "cells": [
    {
      "cell_type": "code",
      "metadata": {
        "id": "duR1RCqWJ7j4",
        "colab": {
          "base_uri": "https://localhost:8080/"
        },
        "outputId": "c4b7475c-5e74-4e7e-9634-cbacfb140416"
      },
      "source": [
        "import re\n",
        "\n",
        "text=\"GeeksforGeeks A computer science portal for geeks\"\n",
        "\n",
        "print(re. findall(r'[Gg]eeks', text))"
      ],
      "execution_count": null,
      "outputs": [
        {
          "output_type": "stream",
          "name": "stdout",
          "text": [
            "['Geeks', 'Geeks', 'geeks']\n"
          ]
        }
      ]
    },
    {
      "cell_type": "code",
      "metadata": {
        "colab": {
          "base_uri": "https://localhost:8080/"
        },
        "id": "KQNMcDEXzjfo",
        "outputId": "42d75f40-43e5-4837-ab46-09926803ef25"
      },
      "source": [
        "\n",
        "\n",
        "import re\n",
        "\n",
        "text=\"for A computer science portal for geeks\"\n",
        "\n",
        "print(re.search(r'[Gg]eeks', text))"
      ],
      "execution_count": null,
      "outputs": [
        {
          "output_type": "stream",
          "name": "stdout",
          "text": [
            "<re.Match object; span=(34, 39), match='geeks'>\n"
          ]
        }
      ]
    },
    {
      "cell_type": "code",
      "metadata": {
        "colab": {
          "base_uri": "https://localhost:8080/"
        },
        "id": "WrFC5adh1kw8",
        "outputId": "0e302ab6-a4a5-4089-9d33-761e5765e18f"
      },
      "source": [
        "\n",
        "\n",
        "import re \n",
        "\n",
        "  \n",
        "\n",
        "  \n",
        "\n",
        "print('Range',re.search('[a-zA-Z]', 'x'))"
      ],
      "execution_count": null,
      "outputs": [
        {
          "output_type": "stream",
          "name": "stdout",
          "text": [
            "Range <re.Match object; span=(0, 1), match='x'>\n"
          ]
        }
      ]
    },
    {
      "cell_type": "code",
      "metadata": {
        "id": "okecc-lpto82"
      },
      "source": [
        ""
      ],
      "execution_count": null,
      "outputs": []
    },
    {
      "cell_type": "markdown",
      "metadata": {
        "id": "f8sJum1ktphQ"
      },
      "source": [
        "Write a Python program to check that a string contains only a certain set of characters\n",
        " (in    this case a-z, A-Z and 0-9)."
      ]
    },
    {
      "cell_type": "code",
      "metadata": {
        "id": "4hYfunnTtwaq",
        "colab": {
          "base_uri": "https://localhost:8080/"
        },
        "outputId": "4073e7d5-a10f-475e-b506-84bf3f2cfcd2"
      },
      "source": [
        "\n",
        "# import library \n",
        "\n",
        "import re \n",
        "\n",
        "  \n",
        "# make a pattern \n",
        "\n",
        "pattern = \"^[A-Za-z0-9]*$\"\n",
        "\n",
        "  \n",
        "# input \n",
        "\n",
        "string1= \"Ibornon2000\"\n",
        "string2=\"a@gmailcom\"\n",
        "string3=input(\"enter the string3:\")\n",
        "\n",
        "  \n",
        "# convert match object  \n",
        "# into boolean values \n",
        "\n",
        "check1=bool(re.match(pattern, string1))\n",
        "check2=bool(re.match(pattern, string2))\n",
        "check3=bool(re.match(pattern, string3))\n",
        "  \n",
        "\n",
        "print(\"string1:\",check1)\n",
        "print(\"string2:\",check2)\n",
        "print(\"string3:\",check3)"
      ],
      "execution_count": null,
      "outputs": [
        {
          "output_type": "stream",
          "name": "stdout",
          "text": [
            "enter the string3:Hskso?? \"\n",
            "string1: True\n",
            "string2: False\n",
            "string3: False\n"
          ]
        }
      ]
    },
    {
      "cell_type": "markdown",
      "metadata": {
        "id": "9orjwWfu5aiC"
      },
      "source": [
        "Write a Python program that matches a string that has an a followed by zero or more b's."
      ]
    },
    {
      "cell_type": "code",
      "metadata": {
        "id": "yNGoOQ5F5lGb",
        "colab": {
          "base_uri": "https://localhost:8080/"
        },
        "outputId": "993b557d-8126-4a98-a594-7db019f48f66"
      },
      "source": [
        "import re\n",
        "def text_match(text):\n",
        "\n",
        "        patterns = 'ab*?'\n",
        "        if re.search(patterns,text):\n",
        "                return \"Found a match\"\n",
        "        else:\n",
        "                return \"Not matched!\"\n",
        "\n",
        "print(text_match(\"ac\"))\n",
        "print(text_match(\"abc\"))\n",
        "print(text_match(\"abbc\"))"
      ],
      "execution_count": null,
      "outputs": [
        {
          "output_type": "stream",
          "name": "stdout",
          "text": [
            "Found a match\n",
            "Found a match\n",
            "Found a match\n"
          ]
        }
      ]
    },
    {
      "cell_type": "markdown",
      "metadata": {
        "id": "xdKaB3AI-uP_"
      },
      "source": [
        "3.  Write a Python program that matches a string that has an a followed by one or more b's."
      ]
    },
    {
      "cell_type": "code",
      "metadata": {
        "colab": {
          "base_uri": "https://localhost:8080/"
        },
        "id": "JYemFcNz-3gd",
        "outputId": "e792efd8-3290-4560-cdb5-0aed9bee81d3"
      },
      "source": [
        "import re\n",
        "\n",
        "text=input(\"enter text:\")\n",
        "text=text.lower()\n",
        "\n",
        "def text_match(text):\n",
        "    pattern=\"ab+?\"\n",
        "    if re.search(pattern, text):\n",
        "      return \"found a match\"\n",
        "    else:\n",
        "      return \"no match\"\n",
        "\n",
        "print(text_match(text))"
      ],
      "execution_count": null,
      "outputs": [
        {
          "output_type": "stream",
          "name": "stdout",
          "text": [
            "enter text:Ab\n",
            "found a match\n"
          ]
        }
      ]
    },
    {
      "cell_type": "markdown",
      "metadata": {
        "id": "YnxG5ER6AxW6"
      },
      "source": [
        "4.  Write a Python program that matches a string that has an a followed by zero or one 'b'."
      ]
    },
    {
      "cell_type": "code",
      "metadata": {
        "colab": {
          "base_uri": "https://localhost:8080/"
        },
        "id": "iWDyu84SA1e9",
        "outputId": "75c61b8a-d7b7-4437-bb59-6bb29901f185"
      },
      "source": [
        "import re\n",
        "\n",
        "def text_match(text):\n",
        "    pattern=\"ab?\"\n",
        "    if re.search(pattern, text):\n",
        "      return \"found a match\"\n",
        "    else:\n",
        "      return \"no match\"\n",
        "\n",
        "print(text_match(\"ac\"))\n",
        "print(text_match(\"fdnsj\"))\n",
        "print(text_match(\"abb\"))"
      ],
      "execution_count": null,
      "outputs": [
        {
          "output_type": "stream",
          "name": "stdout",
          "text": [
            "found a match\n",
            "no match\n",
            "found a match\n"
          ]
        }
      ]
    },
    {
      "cell_type": "markdown",
      "metadata": {
        "id": "Kv_roKydMOi0"
      },
      "source": [
        "5.  Write a Python program that matches a string that has an a followed by three 'b'."
      ]
    },
    {
      "cell_type": "code",
      "metadata": {
        "colab": {
          "base_uri": "https://localhost:8080/"
        },
        "id": "sERKEsbtOC8M",
        "outputId": "0df33295-e242-4545-f91f-dbedf6bb0930"
      },
      "source": [
        "import re\n",
        "\n",
        "\n",
        "\n",
        "pattern=\"ab{3}?\"\n",
        "\n",
        "x=input(\"Enter the text:\")\n",
        "x=x.lower()\n",
        "\n",
        "y=re.match(pattern,x)\n",
        "\n",
        "if y:\n",
        "  print(\"found a match\")\n",
        "\n",
        "else:\n",
        "  print(\"no match\")"
      ],
      "execution_count": null,
      "outputs": [
        {
          "output_type": "stream",
          "name": "stdout",
          "text": [
            "Enter the text:Abbbb\n",
            "found a match\n"
          ]
        }
      ]
    },
    {
      "cell_type": "markdown",
      "metadata": {
        "id": "rmc2kzzCZAky"
      },
      "source": [
        "6.  Write a Python program to find sequences of lowercase letters joined with an underscore."
      ]
    },
    {
      "cell_type": "code",
      "metadata": {
        "colab": {
          "base_uri": "https://localhost:8080/"
        },
        "id": "BWrss_PpZBbs",
        "outputId": "c78ed474-6320-4794-fb12-3c7716cd740f"
      },
      "source": [
        "import re\n",
        "\n",
        "pattern=\"^[a-z]+_[a-z]+_*$\"\n",
        "\n",
        "x=\"ahahanab_dc_jajajabv\"\n",
        "y=re.search(pattern, x)\n",
        "\n",
        "if y:\n",
        "  print(\"match\")\n",
        "else:\n",
        "  print(\"no match\")\n",
        "print(re.search(pattern,x))"
      ],
      "execution_count": null,
      "outputs": [
        {
          "output_type": "stream",
          "name": "stdout",
          "text": [
            "no match\n",
            "None\n"
          ]
        }
      ]
    },
    {
      "cell_type": "markdown",
      "metadata": {
        "id": "hMG5d3xbaWlm"
      },
      "source": [
        "7.  Write a Python program to find the sequences of one upper case letter followed by lower     case letters."
      ]
    },
    {
      "cell_type": "code",
      "metadata": {
        "colab": {
          "base_uri": "https://localhost:8080/"
        },
        "id": "LWHv-AqzaXxI",
        "outputId": "b34d914c-454f-4616-ff42-6498f38747df"
      },
      "source": [
        "import re\n",
        "\n",
        "pattern=\"[A-Z][a-z]*$\"\n",
        "x=\"Abcd\"\n",
        "\n",
        "print(re.search(pattern, x))"
      ],
      "execution_count": null,
      "outputs": [
        {
          "output_type": "stream",
          "name": "stdout",
          "text": [
            "<re.Match object; span=(0, 4), match='Abcd'>\n"
          ]
        }
      ]
    },
    {
      "cell_type": "markdown",
      "metadata": {
        "id": "pIDtZ1k004pp"
      },
      "source": [
        ""
      ]
    }
  ]
}